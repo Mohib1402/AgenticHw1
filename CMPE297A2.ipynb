{
  "nbformat": 4,
  "nbformat_minor": 0,
  "metadata": {
    "colab": {
      "provenance": []
    },
    "kernelspec": {
      "name": "python3",
      "display_name": "Python 3"
    },
    "language_info": {
      "name": "python"
    }
  },
  "cells": [
    {
      "cell_type": "markdown",
      "source": [
        "#Environment setup — install deps, set Gemini key, disable Vertex, verify ADK CLI\n"
      ],
      "metadata": {
        "id": "hNuHKZ7kiwXg"
      }
    },
    {
      "cell_type": "code",
      "execution_count": 1,
      "metadata": {
        "colab": {
          "base_uri": "https://localhost:8080/"
        },
        "id": "h-j2Pxo5vI2V",
        "outputId": "7840e6ad-915d-4030-e9f4-b6b780ed73a1"
      },
      "outputs": [
        {
          "output_type": "stream",
          "name": "stdout",
          "text": [
            "  Preparing metadata (setup.py) ... \u001b[?25l\u001b[?25hdone\n",
            "\u001b[2K   \u001b[90m━━━━━━━━━━━━━━━━━━━━━━━━━━━━━━━━━━━━━━━━\u001b[0m \u001b[32m64.7/64.7 kB\u001b[0m \u001b[31m4.5 MB/s\u001b[0m eta \u001b[36m0:00:00\u001b[0m\n",
            "\u001b[2K   \u001b[90m━━━━━━━━━━━━━━━━━━━━━━━━━━━━━━━━━━━━━━━━\u001b[0m \u001b[32m2.5/2.5 MB\u001b[0m \u001b[31m17.7 MB/s\u001b[0m eta \u001b[36m0:00:00\u001b[0m\n",
            "\u001b[2K   \u001b[90m━━━━━━━━━━━━━━━━━━━━━━━━━━━━━━━━━━━━━━━━\u001b[0m \u001b[32m1.0/1.0 MB\u001b[0m \u001b[31m54.1 MB/s\u001b[0m eta \u001b[36m0:00:00\u001b[0m\n",
            "\u001b[2K   \u001b[90m━━━━━━━━━━━━━━━━━━━━━━━━━━━━━━━━━━━━━━━━\u001b[0m \u001b[32m467.2/467.2 kB\u001b[0m \u001b[31m39.2 MB/s\u001b[0m eta \u001b[36m0:00:00\u001b[0m\n",
            "\u001b[2K   \u001b[90m━━━━━━━━━━━━━━━━━━━━━━━━━━━━━━━━━━━━━━━━\u001b[0m \u001b[32m50.9/50.9 kB\u001b[0m \u001b[31m5.0 MB/s\u001b[0m eta \u001b[36m0:00:00\u001b[0m\n",
            "\u001b[?25h  Building wheel for wikipedia (setup.py) ... \u001b[?25l\u001b[?25hdone\n",
            "\u001b[31mERROR: pip's dependency resolver does not currently take into account all the packages that are installed. This behaviour is the source of the following dependency conflicts.\n",
            "google-colab 1.0.0 requires requests==2.32.4, but you have requests 2.32.5 which is incompatible.\n",
            "langchain 0.3.27 requires langchain-core<1.0.0,>=0.3.72, but you have langchain-core 1.0.0 which is incompatible.\n",
            "langchain 0.3.27 requires langchain-text-splitters<1.0.0,>=0.3.9, but you have langchain-text-splitters 1.0.0 which is incompatible.\u001b[0m\u001b[31m\n",
            "\u001b[0mPython: 3.12.12 (main, Oct 10 2025, 08:52:57) [GCC 11.4.0]\n",
            "Key set (masked): AIzaSy****\n",
            "  api_server   Starts a FastAPI server for agents.\n",
            "  conformance  Conformance testing tools for ADK.\n",
            "  create       Creates a new app in the current folder with prepopulated...\n",
            "  deploy       Deploys agent to hosted environments.\n",
            "  eval         Evaluates an agent given the eval sets.\n",
            "  run          Runs an interactive CLI for a certain agent.\n",
            "  web          Starts a FastAPI server with Web UI for agents.\n"
          ]
        }
      ],
      "source": [
        "# Deps for tools (idempotent)\n",
        "!pip -q install --upgrade google-adk requests wikipedia langchain-community\n",
        "\n",
        "import os, sys\n",
        "print(\"Python:\", sys.version)\n",
        "\n",
        "# Set your Google AI Studio key\n",
        "os.environ[\"GOOGLE_API_KEY\"] = \"\"\n",
        "os.environ[\"GEMINI_API_KEY\"]  = os.environ[\"GOOGLE_API_KEY\"]  # harmless mirror\n",
        "\n",
        "# Ensure ADK does NOT route to Vertex (OAuth-only)\n",
        "for var in [\"GOOGLE_GENAI_USE_VERTEXAI\",\"GOOGLE_VERTEX_PROJECT\",\"GOOGLE_VERTEX_LOCATION\",\"GOOGLE_CLOUD_PROJECT\"]:\n",
        "    os.environ.pop(var, None)\n",
        "\n",
        "print(\"Key set (masked):\", os.environ[\"GOOGLE_API_KEY\"][:6] + \"****\")\n",
        "\n",
        "# Sanity: CLI visible?\n",
        "!adk --help | tail -n +10\n"
      ]
    },
    {
      "cell_type": "markdown",
      "source": [
        "#Scaffold A2 tools agent package (a2_tools_agent)\n"
      ],
      "metadata": {
        "id": "iyi4WovClUwA"
      }
    },
    {
      "cell_type": "code",
      "source": [
        "%%bash\n",
        "set -e\n",
        "rm -rf a2_tools_agent\n",
        "mkdir -p a2_tools_agent\n",
        "\n",
        "cat > a2_tools_agent/__init__.py << 'PY'\n",
        "from .agent import root_agent\n",
        "PY\n",
        "\n",
        "echo \"[OK] created a2_tools_agent/\"\n",
        "ls -la a2_tools_agent\n"
      ],
      "metadata": {
        "colab": {
          "base_uri": "https://localhost:8080/"
        },
        "id": "p_MH531kviYd",
        "outputId": "fadfb273-1d6c-41b9-cf1f-85b529bf267a"
      },
      "execution_count": 2,
      "outputs": [
        {
          "output_type": "stream",
          "name": "stdout",
          "text": [
            "[OK] created a2_tools_agent/\n",
            "total 12\n",
            "drwxr-xr-x 2 root root 4096 Oct 20 03:52 .\n",
            "drwxr-xr-x 1 root root 4096 Oct 20 03:52 ..\n",
            "-rw-r--r-- 1 root root   30 Oct 20 03:52 __init__.py\n"
          ]
        }
      ]
    },
    {
      "cell_type": "markdown",
      "source": [
        "#Write .env so `adk run` inherits the API key\n"
      ],
      "metadata": {
        "id": "ihdC2mH1ltak"
      }
    },
    {
      "cell_type": "code",
      "source": [
        "# Ensure CLI picks up the key when it spawns a new process\n",
        "import pathlib, os\n",
        "pathlib.Path(\"a2_tools_agent/.env\").write_text(f\"GOOGLE_API_KEY={os.environ['GOOGLE_API_KEY']}\\n\")\n",
        "print(\"Wrote a2_tools_agent/.env (key not printed)\")\n"
      ],
      "metadata": {
        "colab": {
          "base_uri": "https://localhost:8080/"
        },
        "id": "mIId1GxivkPN",
        "outputId": "1233230b-5bae-4ad0-d8ef-b22186dd47cc"
      },
      "execution_count": 3,
      "outputs": [
        {
          "output_type": "stream",
          "name": "stdout",
          "text": [
            "Wrote a2_tools_agent/.env (key not printed)\n"
          ]
        }
      ]
    },
    {
      "cell_type": "markdown",
      "source": [
        "#Tool: get_fx_rate — currency exchange via free REST APIs\n"
      ],
      "metadata": {
        "id": "CKj9evGIlwRr"
      }
    },
    {
      "cell_type": "code",
      "source": [
        "%%bash\n",
        "set -e\n",
        "cat > a2_tools_agent/custom_functions.py << 'PY'\n",
        "import requests\n",
        "\n",
        "def get_fx_rate(base: str, target: str):\n",
        "    \"\"\"\n",
        "    Fetch the current exchange rate between two currencies.\n",
        "\n",
        "    Args:\n",
        "      base: 3-letter ISO code (e.g., \"SGD\")\n",
        "      target: 3-letter ISO code (e.g., \"JPY\")\n",
        "\n",
        "    Returns:\n",
        "      JSON payload with the rate (from a free REST API), or {\"error\": \"...\"}.\n",
        "    \"\"\"\n",
        "    urls = [\n",
        "        f\"https://hexarate.paikama.co/api/rates/latest/{base}?target={target}\",\n",
        "        f\"https://api.exchangerate.host/latest?base={base}&symbols={target}\",\n",
        "    ]\n",
        "    last_err = None\n",
        "    for url in urls:\n",
        "        try:\n",
        "            r = requests.get(url, timeout=10)\n",
        "            if r.status_code == 200:\n",
        "                return r.json()\n",
        "            last_err = f\"HTTP {r.status_code}\"\n",
        "        except Exception as e:\n",
        "            last_err = str(e)\n",
        "    return {\"error\": f\"FX fetch failed: {last_err or 'unknown'}\"}\n",
        "PY\n"
      ],
      "metadata": {
        "id": "Ep32P8ojvmEL"
      },
      "execution_count": 4,
      "outputs": []
    },
    {
      "cell_type": "markdown",
      "source": [
        "#Tool: wiki_via_langchain — Wikipedia summary through LangChain"
      ],
      "metadata": {
        "id": "4aMA-rHtl0Rf"
      }
    },
    {
      "cell_type": "code",
      "source": [
        "%%bash\n",
        "set -e\n",
        "cat > a2_tools_agent/wiki_via_langchain_adapter.py << 'PY'\n",
        "from langchain_community.tools import WikipediaQueryRun\n",
        "from langchain_community.utilities import WikipediaAPIWrapper\n",
        "\n",
        "# Build the LC tool once and call it from a plain Python function\n",
        "_wiki = WikipediaQueryRun(api_wrapper=WikipediaAPIWrapper(top_k_results=1, doc_content_chars_max=1500))\n",
        "\n",
        "def wiki_via_langchain(topic: str):\n",
        "    \"\"\"\n",
        "    Use LangChain's WikipediaQueryRun to fetch a concise summary about a person/place/thing.\n",
        "    ALWAYS prefer this tool for 'tell me about' or 'history of' queries.\n",
        "\n",
        "    Args:\n",
        "        topic: The topic/title to look up on Wikipedia (e.g., \"Kyoto\", \"Mount Fuji\").\n",
        "\n",
        "    Returns:\n",
        "        A concise plain-text summary (<= ~1500 chars), or {\"error\": \"...\"} on failure.\n",
        "    \"\"\"\n",
        "    try:\n",
        "        # LC tools typically accept a dict; some builds accept a string\n",
        "        result = _wiki.invoke({\"query\": topic})\n",
        "        return result if isinstance(result, str) else str(result)\n",
        "    except Exception as e:\n",
        "        return {\"error\": f\"wiki_via_langchain failed: {e}\"}\n",
        "PY\n",
        "\n",
        "echo \"[OK] wrote wiki_via_langchain_adapter.py\"\n"
      ],
      "metadata": {
        "colab": {
          "base_uri": "https://localhost:8080/"
        },
        "id": "vDlELNQqvqhw",
        "outputId": "b128cd87-e9b0-423e-fa31-705100ac4224"
      },
      "execution_count": 5,
      "outputs": [
        {
          "output_type": "stream",
          "name": "stdout",
          "text": [
            "[OK] wrote wiki_via_langchain_adapter.py\n"
          ]
        }
      ]
    },
    {
      "cell_type": "markdown",
      "source": [
        "#Tool: weather_outlook — 7-day forecast via Open-Meteo (no API key)\n"
      ],
      "metadata": {
        "id": "KU_ezZ03l6S-"
      }
    },
    {
      "cell_type": "code",
      "source": [
        "%%bash\n",
        "set -e\n",
        "cat > a2_tools_agent/custom_weather.py << 'PY'\n",
        "import requests\n",
        "\n",
        "_COUNTRY_ALIASES = {\n",
        "    \"japan\": \"JP\",\n",
        "    \"united states\": \"US\", \"usa\": \"US\", \"u.s.\": \"US\", \"u.s.a.\": \"US\",\n",
        "    \"united kingdom\": \"GB\", \"uk\": \"GB\", \"great britain\": \"GB\", \"england\": \"GB\",\n",
        "    \"south korea\": \"KR\", \"korea\": \"KR\",\n",
        "    \"germany\": \"DE\", \"france\": \"FR\", \"italy\": \"IT\", \"spain\": \"ES\",\n",
        "    \"canada\": \"CA\", \"australia\": \"AU\", \"india\": \"IN\", \"singapore\": \"SG\",\n",
        "}\n",
        "\n",
        "def _iso2(country: str | None) -> str | None:\n",
        "    if not country:\n",
        "        return None\n",
        "    c = country.strip().lower()\n",
        "    if len(c) == 2:\n",
        "        return c.upper()\n",
        "    return _COUNTRY_ALIASES.get(c)\n",
        "\n",
        "def _choose_result(results, iso2: str | None, country_name: str | None):\n",
        "    if not results:\n",
        "        return None\n",
        "    if iso2:\n",
        "        for r in results:\n",
        "            if str(r.get(\"country_code\", \"\")).upper() == iso2:\n",
        "                return r\n",
        "    if country_name:\n",
        "        cn = country_name.strip().lower()\n",
        "        for r in results:\n",
        "            if cn and cn in str(r.get(\"country\", \"\")).strip().lower():\n",
        "                return r\n",
        "    return results[0]\n",
        "\n",
        "def weather_outlook(city: str, country: str = \"\", days: int = 7):\n",
        "    \"\"\"\n",
        "    Returns a concise 3–5 line outlook using Open-Meteo (no key).\n",
        "    Args:\n",
        "      city: e.g., \"Tokyo\"\n",
        "      country: optional (e.g., \"Japan\" or \"JP\")\n",
        "      days: up to 7\n",
        "    Returns: {\"source\",\"summary\",\"daily\"} or {\"error\": \"...\"}\n",
        "    \"\"\"\n",
        "    if not city or not city.strip():\n",
        "        return {\"error\": \"city is required\"}\n",
        "\n",
        "    iso2 = _iso2(country)\n",
        "    q1 = city.strip()\n",
        "    q2 = (city.strip() + \" \" + country.strip()).strip() if country else None\n",
        "\n",
        "    def _geocode(q):\n",
        "        r = requests.get(\"https://geocoding-api.open-meteo.com/v1/search\",\n",
        "                         params={\"name\": q, \"count\": 5}, timeout=10)\n",
        "        if r.status_code != 200:\n",
        "            return [], f\"geocode HTTP {r.status_code}\"\n",
        "        return r.json().get(\"results\") or [], None\n",
        "\n",
        "    results, _ = _geocode(q1)\n",
        "    if not results and q2:\n",
        "        results, _ = _geocode(q2)\n",
        "    if not results:\n",
        "        return {\"error\": f\"could not geocode '{q2 or q1}'\"}\n",
        "\n",
        "    chosen = _choose_result(results, iso2, country)\n",
        "    if not chosen:\n",
        "        return {\"error\": \"geocode yielded no acceptable match\"}\n",
        "\n",
        "    lat, lon = chosen[\"latitude\"], chosen[\"longitude\"]\n",
        "    city_name = chosen.get(\"name\") or city\n",
        "\n",
        "    d = max(1, min(int(days), 7))\n",
        "    f = requests.get(\"https://api.open-meteo.com/v1/forecast\",\n",
        "                     params={\n",
        "                        \"latitude\": lat, \"longitude\": lon,\n",
        "                        \"daily\": \"temperature_2m_max,temperature_2m_min,precipitation_probability_mean\",\n",
        "                        \"timezone\": \"auto\",\n",
        "                     }, timeout=10)\n",
        "    if f.status_code != 200:\n",
        "        return {\"error\": f\"forecast HTTP {f.status_code}\"}\n",
        "    fj = f.json()\n",
        "    daily = []\n",
        "    times = fj.get(\"daily\", {}).get(\"time\", []) or []\n",
        "    tmaxs = fj.get(\"daily\", {}).get(\"temperature_2m_max\", []) or []\n",
        "    tmins = fj.get(\"daily\", {}).get(\"temperature_2m_min\", []) or []\n",
        "    pops  = fj.get(\"daily\", {}).get(\"precipitation_probability_mean\", []) or []\n",
        "    for i in range(min(d, len(times))):\n",
        "        daily.append({\n",
        "            \"date\": times[i],\n",
        "            \"tmax\": tmaxs[i] if i < len(tmaxs) else None,\n",
        "            \"tmin\": tmins[i] if i < len(tmins) else None,\n",
        "            \"pop\":  pops[i]  if i < len(pops)  else None,\n",
        "        })\n",
        "    if not daily:\n",
        "        return {\"error\": \"no daily data\"}\n",
        "\n",
        "    valid_tmax = [x[\"tmax\"] for x in daily if x[\"tmax\"] is not None]\n",
        "    valid_tmin = [x[\"tmin\"] for x in daily if x[\"tmin\"] is not None]\n",
        "    if not valid_tmax or not valid_tmin:\n",
        "        return {\"error\": \"missing temperature data\"}\n",
        "\n",
        "    tmax = max(valid_tmax)\n",
        "    tmin = min(valid_tmin)\n",
        "    wet = sum(1 for x in daily if (x.get(\"pop\") or 0) >= 50)\n",
        "\n",
        "    lines = [\n",
        "        f\"{city_name}: next {len(daily)} days ~ {round(tmin)}–{round(tmax)}°C.\",\n",
        "        f\"{wet} day(s) with ≥50% precip probability.\" if wet else \"Low chance of rain on most days.\",\n",
        "        \"Source: Open-Meteo.\"\n",
        "    ]\n",
        "    return {\"source\": \"Open-Meteo\", \"summary\": \" \".join(lines), \"daily\": daily}\n",
        "PY\n",
        "\n",
        "echo \"[OK] custom_weather.py\"\n"
      ],
      "metadata": {
        "colab": {
          "base_uri": "https://localhost:8080/"
        },
        "id": "YCVEz3S8vupv",
        "outputId": "c65379d7-8d87-48d3-d0b2-1e08be7547db"
      },
      "execution_count": 6,
      "outputs": [
        {
          "output_type": "stream",
          "name": "stdout",
          "text": [
            "[OK] custom_weather.py\n"
          ]
        }
      ]
    },
    {
      "cell_type": "markdown",
      "source": [
        "#Wire final agent — add tools & output policy (A2 travel assistant)\n"
      ],
      "metadata": {
        "id": "PuVBREibl_X8"
      }
    },
    {
      "cell_type": "code",
      "source": [
        "%%bash\n",
        "set -e\n",
        "cat > a2_tools_agent/agent.py << 'PY'\n",
        "from google.adk.agents import Agent\n",
        "from google.adk.tools import FunctionTool\n",
        "from google.adk.tools.agent_tool import AgentTool\n",
        "\n",
        "from .wiki_via_langchain_adapter import wiki_via_langchain\n",
        "from .custom_weather import weather_outlook\n",
        "from .custom_functions import get_fx_rate\n",
        "\n",
        "# Optional: if you created a google_search_agent earlier, it will be used; otherwise ignored.\n",
        "try:\n",
        "    from .custom_agents import google_search_agent\n",
        "except Exception:\n",
        "    google_search_agent = None\n",
        "\n",
        "tools = [\n",
        "    FunctionTool(wiki_via_langchain),   # Wikipedia via LangChain (history/culture)\n",
        "    FunctionTool(weather_outlook),      # Open-Meteo 7-day weather (no key)\n",
        "    FunctionTool(get_fx_rate),          # FX JSON\n",
        "]\n",
        "if google_search_agent and len(getattr(google_search_agent, \"tools\", [])) > 0:\n",
        "    tools.insert(1, AgentTool(agent=google_search_agent))  # optional delegate\n",
        "\n",
        "root_agent = Agent(\n",
        "    model='gemini-2.0-flash',\n",
        "    name='a2_tools_agent',\n",
        "    description='A2: Travel assistant with Wikipedia, Open-Meteo weather, and FX.',\n",
        "    instruction=(\n",
        "        \"OUTPUT POLICY (must follow exactly):\\n\"\n",
        "        \"• If you used ANY tool, end with: 'Sources: <comma-separated names>' (e.g., Wikipedia, Open-Meteo).\\n\"\n",
        "        \"• If you did NOT use any tool, end with: 'Sources: none'.\\n\"\n",
        "        \"• For 'tell me about' / 'history of', you MUST call wiki_via_langchain first, then summarize.\\n\"\n",
        "        \"• For weather, call weather_outlook(city, country?) and summarize its 'summary' field.\\n\"\n",
        "        \"• For currency, call get_fx_rate and report either JSON or a numeric rate.\\n\"\n",
        "        \"Keep answers concise and factual.\"\n",
        "    ),\n",
        "    tools=tools,\n",
        ")\n",
        "PY\n",
        "\n",
        "echo \"[OK] final agent wired\"\n"
      ],
      "metadata": {
        "colab": {
          "base_uri": "https://localhost:8080/"
        },
        "id": "o1zWjvC2vz65",
        "outputId": "c982e8e2-e1c7-49ac-e2db-12c7e1445e20"
      },
      "execution_count": 7,
      "outputs": [
        {
          "output_type": "stream",
          "name": "stdout",
          "text": [
            "[OK] final agent wired\n"
          ]
        }
      ]
    },
    {
      "cell_type": "markdown",
      "source": [
        "#Quick tests — Wikipedia, Weather, and FX tool calls\n"
      ],
      "metadata": {
        "id": "neTgOKrpmBWX"
      }
    },
    {
      "cell_type": "code",
      "source": [
        "import subprocess, re, os\n",
        "\n",
        "def run_agent(agent_pkg: str, prompt: str):\n",
        "    p = subprocess.run(\n",
        "        [\"adk\",\"run\",agent_pkg],\n",
        "        input=(prompt+\"\\n\").encode(),\n",
        "        stdout=subprocess.PIPE, stderr=subprocess.STDOUT,\n",
        "        check=False, env=dict(os.environ)\n",
        "    )\n",
        "    out = p.stdout.decode()\n",
        "    m = re.search(rf\"\\[{re.escape(agent_pkg)}\\]:\\s*(.*)\", out, flags=re.S)\n",
        "    return (m.group(1).strip() if m else out), out\n",
        "\n",
        "# Wikipedia test\n",
        "print(run_agent(\"a2_tools_agent\", \"Tell me about the history of Kyoto (max 4 sentences).\")[0])\n",
        "\n",
        "# Weather test\n",
        "print(run_agent(\"a2_tools_agent\", \"What is the weather outlook in Tokyo over the next week? keep it short.\")[0])\n",
        "\n",
        "# FX test\n",
        "print(run_agent(\"a2_tools_agent\", \"What is the exchange rate from SGD to JPY? Return JSON.\")[0])\n"
      ],
      "metadata": {
        "colab": {
          "base_uri": "https://localhost:8080/"
        },
        "id": "yHyAMOBiv2Zm",
        "outputId": "f878533a-9830-424e-da10-0174c89fea21"
      },
      "execution_count": 8,
      "outputs": [
        {
          "output_type": "stream",
          "name": "stdout",
          "text": [
            "Kyoto, officially Kyoto City, is the capital of Kyoto Prefecture in Japan. It was chosen in 794 as the new seat of Japan's imperial court by Emperor Kanmu and named Heian-kyō. The emperors of Japan ruled from Kyoto for eleven centuries until 1869, when the capital was moved to Tokyo after the Meiji Restoration. The modern municipality of Kyoto was established in 1889.\n",
            "Sources: Wikipedia\n",
            "[user]: \n",
            "Aborted!\n",
            "The weather in Tokyo over the next 7 days will range from 10–22°C. There is one day with a 50% or greater probability of precipitation.\n",
            "Sources: Open-Meteo\n",
            "\n",
            "[user]: \n",
            "Aborted!\n",
            "{\"get_fx_rate_response\": {\"data\": {\"base\": \"SGD\", \"mid\": 116.618, \"target\": \"JPY\", \"timestamp\": \"2025-10-20T01:11:46.741Z\", \"unit\": 1}, \"status_code\": 200}}\n",
            "Sources: None\n",
            "[user]: \n",
            "Aborted!\n"
          ]
        }
      ]
    }
  ]
}