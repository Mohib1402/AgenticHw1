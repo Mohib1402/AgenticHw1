{
  "nbformat": 4,
  "nbformat_minor": 0,
  "metadata": {
    "colab": {
      "provenance": []
    },
    "kernelspec": {
      "name": "python3",
      "display_name": "Python 3"
    },
    "language_info": {
      "name": "python"
    }
  },
  "cells": [
    {
      "cell_type": "markdown",
      "source": [
        "#Environment setup (ADK, key, no Vertex)"
      ],
      "metadata": {
        "id": "sieI51lGnclA"
      }
    },
    {
      "cell_type": "code",
      "source": [
        "# A3-1: Environment prep (ADK + key + no Vertex)\n",
        "\n",
        "import os, sys, subprocess\n",
        "\n",
        "print(\"Python:\", sys.version)\n",
        "\n",
        "# 1) Install deps (idempotent)\n",
        "!pip -q install --upgrade google-adk requests pandas\n",
        "\n",
        "# 2) Set your AI Studio key (same pattern as A1/A2). If your env already has it, we keep it.\n",
        "os.environ[\"GOOGLE_API_KEY\"] = os.environ.get(\"GOOGLE_API_KEY\", \"\")\n",
        "print(\"GOOGLE_API_KEY (masked):\", (os.environ[\"GOOGLE_API_KEY\"][:6] + \"****\") if os.environ[\"GOOGLE_API_KEY\"] else \"<missing>\")\n",
        "\n",
        "# 3) Make sure we don't route to Vertex\n",
        "for var in [\"GOOGLE_GENAI_USE_VERTEXAI\", \"GOOGLE_VERTEX_PROJECT\", \"GOOGLE_VERTEX_LOCATION\", \"GOOGLE_CLOUD_PROJECT\"]:\n",
        "    os.environ.pop(var, None)\n",
        "print(\"Vertex-related env disabled.\")\n",
        "\n",
        "# 4) Quick CLI sanity\n",
        "try:\n",
        "    out = subprocess.run([\"adk\", \"--version\"], check=False, capture_output=True, text=True)\n",
        "    if out.returncode == 0 and out.stdout.strip():\n",
        "        print(\"adk --version:\", out.stdout.strip())\n",
        "    else:\n",
        "        help_out = subprocess.run([\"adk\", \"--help\"], check=False, capture_output=True, text=True)\n",
        "        print(\"adk --help (first lines):\\n\", \"\\n\".join(help_out.stdout.splitlines()[:5]))\n",
        "except FileNotFoundError:\n",
        "    print(\"ERROR: `adk` CLI not found on PATH\")\n"
      ],
      "metadata": {
        "colab": {
          "base_uri": "https://localhost:8080/"
        },
        "id": "BlAmohz84T__",
        "outputId": "21d79735-ce45-488f-fab0-e95e050a1a20"
      },
      "execution_count": 88,
      "outputs": [
        {
          "output_type": "stream",
          "name": "stdout",
          "text": [
            "Python: 3.12.12 (main, Oct 10 2025, 08:52:57) [GCC 11.4.0]\n",
            "GOOGLE_API_KEY (masked): AIzaSy****\n",
            "Vertex-related env disabled.\n",
            "adk --version: adk, version 1.16.0\n"
          ]
        }
      ]
    },
    {
      "cell_type": "markdown",
      "source": [
        "#Create and seed the travel SQLite database"
      ],
      "metadata": {
        "id": "iBDKfm7gnf24"
      }
    },
    {
      "cell_type": "code",
      "source": [
        "# A3-2: Create a clean SQLite DB with consistent column names\n",
        "\n",
        "import sqlite3, os\n",
        "\n",
        "db_path = \"travel.db\"\n",
        "if os.path.exists(db_path):\n",
        "    os.remove(db_path)\n",
        "\n",
        "conn = sqlite3.connect(db_path)\n",
        "cur = conn.cursor()\n",
        "\n",
        "cur.executescript(\"\"\"\n",
        "DROP TABLE IF EXISTS flights;\n",
        "DROP TABLE IF EXISTS hotels;\n",
        "DROP TABLE IF EXISTS attractions;\n",
        "\n",
        "CREATE TABLE flights (\n",
        "  flight_no   TEXT PRIMARY KEY,\n",
        "  carrier     TEXT,\n",
        "  origin      TEXT,\n",
        "  dest        TEXT,\n",
        "  depart      TEXT,\n",
        "  arrive      TEXT,\n",
        "  price       REAL\n",
        ");\n",
        "\n",
        "CREATE TABLE hotels (\n",
        "  id INTEGER PRIMARY KEY,\n",
        "  name TEXT,\n",
        "  city TEXT,\n",
        "  neighborhood TEXT,\n",
        "  price REAL,\n",
        "  rating REAL\n",
        ");\n",
        "\n",
        "CREATE TABLE attractions (\n",
        "  id INTEGER PRIMARY KEY,\n",
        "  name TEXT,\n",
        "  city TEXT,\n",
        "  category TEXT,\n",
        "  hours TEXT,\n",
        "  popularity INTEGER\n",
        ");\n",
        "\"\"\")\n",
        "\n",
        "flights = [\n",
        "  (\"JL001\",\"JAL\",\"SFO\",\"NRT\",\"08:30\",\"12:20\", 780.0),\n",
        "  (\"NH007\",\"ANA\",\"SFO\",\"HND\",\"10:00\",\"14:15\", 820.0),\n",
        "  (\"UA837\",\"United\",\"SFO\",\"NRT\",\"12:00\",\"15:45\", 695.0),\n",
        "  (\"SQ012\",\"Singapore\",\"LAX\",\"NRT\",\"09:15\",\"13:10\", 720.0),\n",
        "]\n",
        "\n",
        "hotels = [\n",
        "  (1,\"Park Hotel Tokyo\",\"Tokyo\",\"Shiodome\",180,4.3),\n",
        "  (2,\"Hotel Gracery Shinjuku\",\"Tokyo\",\"Shinjuku\",150,4.2),\n",
        "  (3,\"The Gate Hotel Asakusa\",\"Tokyo\",\"Asakusa\",135,4.1),\n",
        "  (4,\"Kyoto Granbell Hotel\",\"Kyoto\",\"Gion\",160,4.4),\n",
        "  (5,\"Hotel Mystays Kyoto\",\"Kyoto\",\"Central\",120,4.0),\n",
        "]\n",
        "\n",
        "attractions = [\n",
        "  (1,\"Senso-ji Temple\",\"Tokyo\",\"temple\",\"06:00-17:00\",95),\n",
        "  (2,\"Ueno Park\",\"Tokyo\",\"park\",\"All day\",88),\n",
        "  (3,\"Meiji Jingu\",\"Tokyo\",\"shrine\",\"Sunrise-Sunset\",92),\n",
        "  (4,\"Kiyomizu-dera\",\"Kyoto\",\"temple\",\"06:00-18:00\",97),\n",
        "  (5,\"Fushimi Inari Taisha\",\"Kyoto\",\"shrine\",\"All day\",99),\n",
        "]\n",
        "\n",
        "cur.executemany(\"INSERT INTO flights VALUES (?,?,?,?,?,?,?)\", flights)\n",
        "cur.executemany(\"INSERT INTO hotels  VALUES (?,?,?,?,?,?)\", hotels)\n",
        "cur.executemany(\"INSERT INTO attractions VALUES (?,?,?,?,?,?)\", attractions)\n",
        "conn.commit()\n",
        "\n",
        "print(\"Rows — flights, hotels, attractions:\",\n",
        "      cur.execute(\"SELECT COUNT(*) FROM flights\").fetchone()[0],\n",
        "      cur.execute(\"SELECT COUNT(*) FROM hotels\").fetchone()[0],\n",
        "      cur.execute(\"SELECT COUNT(*) FROM attractions\").fetchone()[0])\n",
        "\n",
        "# Quick peek\n",
        "print(cur.execute(\"SELECT flight_no, carrier, origin, dest, price FROM flights ORDER BY price ASC\").fetchall()[:3])\n",
        "\n",
        "conn.close()\n"
      ],
      "metadata": {
        "colab": {
          "base_uri": "https://localhost:8080/"
        },
        "id": "IoUZNLK_4yaL",
        "outputId": "e39e0a9a-641c-4cfb-972a-8721071b6744"
      },
      "execution_count": 89,
      "outputs": [
        {
          "output_type": "stream",
          "name": "stdout",
          "text": [
            "Rows — flights, hotels, attractions: 4 5 5\n",
            "[('UA837', 'United', 'SFO', 'NRT', 695.0), ('SQ012', 'Singapore', 'LAX', 'NRT', 720.0), ('JL001', 'JAL', 'SFO', 'NRT', 780.0)]\n"
          ]
        }
      ]
    },
    {
      "cell_type": "markdown",
      "source": [
        "#Build the travel agent package (FunctionTool + SQLite)"
      ],
      "metadata": {
        "id": "lA5sV27_ni-D"
      }
    },
    {
      "cell_type": "code",
      "source": [
        "# A3-3: Build a3_travel_agent with 3 FunctionTool-backed SQL helpers\n",
        "\n",
        "import os, pathlib, sqlite3, json, re, subprocess, textwrap\n",
        "\n",
        "# Make sure the subprocess (adk run) can find both the key and DB\n",
        "os.environ[\"TRAVEL_DB_PATH\"] = os.path.abspath(\"travel.db\")\n",
        "print(\"TRAVEL_DB_PATH:\", os.environ[\"TRAVEL_DB_PATH\"])\n",
        "\n",
        "# Fresh package\n",
        "!rm -rf a3_travel_agent\n",
        "!mkdir -p a3_travel_agent\n",
        "\n",
        "# __init__.py\n",
        "open(\"a3_travel_agent/__init__.py\",\"w\").write(\"from .agent import root_agent\\n\")\n",
        "\n",
        "# db_tools.py — plain Python functions that query SQLite\n",
        "open(\"a3_travel_agent/db_tools.py\",\"w\").write(textwrap.dedent(f\"\"\"\n",
        "import os, sqlite3\n",
        "from typing import List, Dict, Optional\n",
        "\n",
        "DB_PATH = os.getenv(\"TRAVEL_DB_PATH\", \"{os.path.abspath('travel.db')}\")\n",
        "\n",
        "def _rows(sql: str, params: tuple = ()) -> List[Dict]:\n",
        "    conn = sqlite3.connect(DB_PATH)\n",
        "    conn.row_factory = sqlite3.Row\n",
        "    cur = conn.cursor()\n",
        "    cur.execute(sql, params)\n",
        "    out = [dict(r) for r in cur.fetchall()]\n",
        "    conn.close()\n",
        "    return out\n",
        "\n",
        "def hotels_by_city(city: str, max_price: Optional[float] = None, limit: int = 5) -> List[Dict]:\n",
        "    \\\"\\\"\\\"Return hotels in a city, optional max_price filter.\n",
        "    Args:\n",
        "      city: e.g., \"Tokyo\"\n",
        "      max_price: USD max nightly price (optional)\n",
        "      limit: number of rows to return (default 5)\n",
        "    \\\"\\\"\\\"\n",
        "    sql = \"SELECT name, neighborhood, price FROM hotels WHERE city = ?\"\n",
        "    params = [city]\n",
        "    if max_price is not None:\n",
        "        sql += \" AND price <= ?\"\n",
        "        params.append(float(max_price))\n",
        "    sql += \" ORDER BY price ASC LIMIT ?\"\n",
        "    params.append(int(limit))\n",
        "    return _rows(sql, tuple(params))\n",
        "\n",
        "def attractions_by_city(city: str, category: Optional[str] = None, limit: int = 5) -> List[Dict]:\n",
        "    \\\"\\\"\\\"Return top attractions in a city (by popularity), optional category filter.\n",
        "    Args:\n",
        "      city: e.g., \"Kyoto\"\n",
        "      category: e.g., \"temple\" (optional)\n",
        "      limit: number of rows to return (default 5)\n",
        "    \\\"\\\"\\\"\n",
        "    sql = \"SELECT name, category, hours FROM attractions WHERE city = ?\"\n",
        "    params = [city]\n",
        "    if category:\n",
        "        sql += \" AND category = ?\"\n",
        "        params.append(category)\n",
        "    sql += \" ORDER BY popularity DESC LIMIT ?\"\n",
        "    params.append(int(limit))\n",
        "    return _rows(sql, tuple(params))\n",
        "\n",
        "def flights_search(origin: str, dest: str, max_price: Optional[float] = None, limit: int = 5) -> List[Dict]:\n",
        "    \\\"\\\"\\\"Return best-priced flights for an origin→dest (IATA codes), optional max_price.\n",
        "    Args:\n",
        "      origin: e.g., \"SFO\"\n",
        "      dest:   e.g., \"NRT\"\n",
        "      max_price: USD cap (optional)\n",
        "      limit: max rows (default 5)\n",
        "    \\\"\\\"\\\"\n",
        "    sql = \"SELECT carrier, flight_no, depart, arrive, price FROM flights WHERE origin = ? AND dest = ?\"\n",
        "    params = [origin, dest]\n",
        "    if max_price is not None:\n",
        "        sql += \" AND price <= ?\"\n",
        "        params.append(float(max_price))\n",
        "    sql += \" ORDER BY price ASC LIMIT ?\"\n",
        "    params.append(int(limit))\n",
        "    return _rows(sql, tuple(params))\n",
        "\"\"\"))\n",
        "\n",
        "# agent.py — expose the functions as ADK tools\n",
        "open(\"a3_travel_agent/agent.py\",\"w\").write(textwrap.dedent(\"\"\"\n",
        "from google.adk.agents import Agent\n",
        "from google.adk.tools import FunctionTool\n",
        "\n",
        "from .db_tools import hotels_by_city, attractions_by_city, flights_search\n",
        "\n",
        "root_agent = Agent(\n",
        "    model=\"gemini-2.0-flash\",\n",
        "    name=\"a3_travel_agent\",\n",
        "    description=\"Travel agent that queries local SQLite for hotels/attractions/flights.\",\n",
        "    instruction=(\n",
        "        \"You can call tools to query hotels, attractions, and flights. \"\n",
        "        \"Prefer tools for factual lookups; answer concisely. \"\n",
        "        \"If a user asks for hotels, call hotels_by_city; for sights, attractions_by_city; \"\n",
        "        \"for flights, flights_search.\"\n",
        "    ),\n",
        "    tools=[\n",
        "        FunctionTool(hotels_by_city),\n",
        "        FunctionTool(attractions_by_city),\n",
        "        FunctionTool(flights_search),\n",
        "    ],\n",
        ")\n",
        "\"\"\"))\n",
        "\n",
        "# .env for the package so `adk run a3_travel_agent` inherits config\n",
        "open(\"a3_travel_agent/.env\",\"w\").write(\n",
        "    f\"GOOGLE_API_KEY={os.environ['GOOGLE_API_KEY']}\\n\"\n",
        "    f\"TRAVEL_DB_PATH={os.environ['TRAVEL_DB_PATH']}\\n\"\n",
        ")\n",
        "\n",
        "print(\"[OK] a3_travel_agent built with FunctionTool-backed SQLite queries\")\n",
        "!ls -la a3_travel_agent\n"
      ],
      "metadata": {
        "colab": {
          "base_uri": "https://localhost:8080/"
        },
        "id": "8L90wpTY5EgY",
        "outputId": "51eefe61-d351-4bef-e027-55c445f70865"
      },
      "execution_count": 90,
      "outputs": [
        {
          "output_type": "stream",
          "name": "stdout",
          "text": [
            "TRAVEL_DB_PATH: /content/travel.db\n",
            "[OK] a3_travel_agent built with FunctionTool-backed SQLite queries\n",
            "total 24\n",
            "drwxr-xr-x 2 root root 4096 Oct 20 05:15 .\n",
            "drwxr-xr-x 1 root root 4096 Oct 20 05:15 ..\n",
            "-rw-r--r-- 1 root root  755 Oct 20 05:15 agent.py\n",
            "-rw-r--r-- 1 root root 2271 Oct 20 05:15 db_tools.py\n",
            "-rw-r--r-- 1 root root   89 Oct 20 05:15 .env\n",
            "-rw-r--r-- 1 root root   30 Oct 20 05:15 __init__.py\n"
          ]
        }
      ]
    },
    {
      "cell_type": "markdown",
      "source": [
        "#Quick sanity tests for hotels, attractions, and flights tools"
      ],
      "metadata": {
        "id": "xEWJBkd7nmfP"
      }
    },
    {
      "cell_type": "code",
      "source": [
        "import os, re, subprocess, textwrap, json\n",
        "\n",
        "def run_agent(agent_pkg: str, prompt: str):\n",
        "    p = subprocess.run(\n",
        "        [\"adk\",\"run\",agent_pkg],\n",
        "        input=(prompt+\"\\n\").encode(),\n",
        "        stdout=subprocess.PIPE, stderr=subprocess.STDOUT,\n",
        "        check=False, env=dict(os.environ),\n",
        "    )\n",
        "    out = p.stdout.decode()\n",
        "    m = re.search(rf\"\\[{re.escape(agent_pkg)}\\]:\\s*(.*)\", out, flags=re.S)\n",
        "    return (m.group(1).strip() if m else out), out\n",
        "\n",
        "print(\">>> Hotels\")\n",
        "hotels_ans, hotels_raw = run_agent(\n",
        "    \"a3_travel_agent\",\n",
        "    \"Use the hotels_by_city tool with city='Tokyo', max_price=170, limit=3. \"\n",
        "    \"Return 'name — neighborhood — $price' bullets.\"\n",
        ")\n",
        "print(hotels_ans, \"\\n\")\n",
        "\n",
        "print(\">>> Attractions\")\n",
        "attr_ans, attr_raw = run_agent(\n",
        "    \"a3_travel_agent\",\n",
        "    \"Use attractions_by_city with city='Kyoto', category='temple', limit=3. \"\n",
        "    \"Return 'name — hours' bullets.\"\n",
        ")\n",
        "print(attr_ans, \"\\n\")\n",
        "\n",
        "print(\">>> Flights\")\n",
        "flights_ans, flights_raw = run_agent(\n",
        "    \"a3_travel_agent\",\n",
        "    \"Use flights_search with origin='SFO', dest='NRT', max_price=800, limit=3. \"\n",
        "    \"Return 'carrier flight_no — depart→arrive — $price' bullets.\"\n",
        ")\n",
        "print(flights_ans, \"\\n\")\n",
        "\n",
        "# Optional: peek at tool calls (if the log captured them)\n",
        "print(\">>> Recent tool calls (if logged)\")\n",
        "try:\n",
        "    log_tail = subprocess.run(\n",
        "        [\"bash\",\"-lc\",\"tail -n 200 /tmp/agents_log/agent.latest.log | sed -n '/functionCall/,$p'\"],\n",
        "        stdout=subprocess.PIPE, stderr=subprocess.STDOUT, check=False\n",
        "    ).stdout.decode()\n",
        "    print(log_tail or \"(no functionCall records in tail)\")\n",
        "except Exception as e:\n",
        "    print(\"(could not read log tail)\", e)\n"
      ],
      "metadata": {
        "colab": {
          "base_uri": "https://localhost:8080/"
        },
        "id": "Hy26ogYe5WT5",
        "outputId": "d6515828-9757-43aa-acdd-e93fc5c47e9b"
      },
      "execution_count": 91,
      "outputs": [
        {
          "output_type": "stream",
          "name": "stdout",
          "text": [
            ">>> Hotels\n",
            "* The Gate Hotel Asakusa — Asakusa — $135\n",
            "* Hotel Gracery Shinjuku — Shinjuku — $150\n",
            "[user]: \n",
            "Aborted! \n",
            "\n",
            ">>> Attractions\n",
            "* Kiyomizu-dera — 06:00-18:00\n",
            "\n",
            "[user]: \n",
            "Aborted! \n",
            "\n",
            ">>> Flights\n",
            "* United UA837 — 12:00→15:45 — $695\n",
            "* JAL JL001 — 08:30→12:20 — $780\n",
            "[user]: \n",
            "Aborted! \n",
            "\n",
            ">>> Recent tool calls (if logged)\n",
            "(no functionCall records in tail)\n"
          ]
        }
      ]
    },
    {
      "cell_type": "markdown",
      "source": [
        "#Install trip-planner policy (overwrite agent instruction)"
      ],
      "metadata": {
        "id": "xGeq2uypnrYp"
      }
    },
    {
      "cell_type": "code",
      "source": [
        "%%bash\n",
        "set -e\n",
        "cat > a3_travel_agent/agent.py << 'PY'\n",
        "from google.adk.agents import Agent\n",
        "from google.adk.tools import FunctionTool\n",
        "from .db_tools import hotels_by_city, attractions_by_city, flights_search\n",
        "\n",
        "root_agent = Agent(\n",
        "    model=\"gemini-2.0-flash\",\n",
        "    name=\"a3_travel_agent\",\n",
        "    description=\"Trip planner that queries a local SQLite travel DB via tools.\",\n",
        "    instruction=(\n",
        "        \"You are a travel planner. IMPORTANT:\\n\"\n",
        "        \"• For any request about hotels, flights, or attractions, you MUST call the corresponding tool(s):\\n\"\n",
        "        \"  - hotels_by_city(city, max_price?, limit?)\\n\"\n",
        "        \"  - flights_search(origin, dest, max_price?, limit?)\\n\"\n",
        "        \"  - attractions_by_city(city, category?, limit?)\\n\"\n",
        "        \"• Never invent data. Only cite rows returned by the tools. If a tool returns no rows, say so.\\n\"\n",
        "        \"• When asked to 'plan' a trip, do this sequence:\\n\"\n",
        "        \"  1) Find flights (cheapest first) with flights_search.\\n\"\n",
        "        \"  2) Pick 1–2 hotels via hotels_by_city under the given budget (if provided).\\n\"\n",
        "        \"  3) List 3–5 attractions via attractions_by_city.\\n\"\n",
        "        \"  4) Produce a concise 1–2 day itinerary: bullets per day.\\n\"\n",
        "        \"• Output format for planning:\\n\"\n",
        "        \"  - 'Flights:' one line per option as 'Carrier Flight — depart→arrive — $price' (max 3 lines).\\n\"\n",
        "        \"  - 'Hotels:' 'Name — neighborhood — $price' (max 3 lines).\\n\"\n",
        "        \"  - 'Attractions:' 3–5 bullets 'Name — hours'.\\n\"\n",
        "        \"  - 'Itinerary:' Day 1 / Day 2 bullets using the above.\\n\"\n",
        "        \"• End with: 'Source: travel.db'.\"\n",
        "    ),\n",
        "    tools=[\n",
        "        FunctionTool(hotels_by_city),\n",
        "        FunctionTool(attractions_by_city),\n",
        "        FunctionTool(flights_search),\n",
        "    ],\n",
        ")\n",
        "PY\n",
        "echo \"[OK] Planner policy installed\"\n"
      ],
      "metadata": {
        "colab": {
          "base_uri": "https://localhost:8080/"
        },
        "id": "8dK757445uvl",
        "outputId": "1607b02c-1ec0-4250-d226-70e20372cb93"
      },
      "execution_count": 92,
      "outputs": [
        {
          "output_type": "stream",
          "name": "stdout",
          "text": [
            "[OK] Planner policy installed\n"
          ]
        }
      ]
    },
    {
      "cell_type": "markdown",
      "source": [
        "#Generate a 2-day Tokyo plan via tools"
      ],
      "metadata": {
        "id": "JA263giNnuC8"
      }
    },
    {
      "cell_type": "code",
      "source": [
        "import os, re, subprocess\n",
        "\n",
        "def run_agent(agent_pkg: str, prompt: str):\n",
        "    p = subprocess.run(\n",
        "        [\"adk\",\"run\",agent_pkg],\n",
        "        input=(prompt+\"\\n\").encode(),\n",
        "        stdout=subprocess.PIPE, stderr=subprocess.STDOUT, check=False, env=dict(os.environ)\n",
        "    )\n",
        "    out = p.stdout.decode()\n",
        "    m = re.search(rf\"\\[{re.escape(agent_pkg)}\\]:\\s*(.*)\", out, flags=re.S)\n",
        "    return (m.group(1).strip() if m else out), out\n",
        "\n",
        "plan_prompt = (\n",
        "    \"Plan a 2-day weekend in Tokyo for someone flying from SFO to NRT under $800 \"\n",
        "    \"and staying under $170/night. Use the tools, then build the plan.\"\n",
        ")\n",
        "ans, raw = run_agent(\"a3_travel_agent\", plan_prompt)\n",
        "print(ans)\n"
      ],
      "metadata": {
        "colab": {
          "base_uri": "https://localhost:8080/"
        },
        "id": "XUeZKs6M5xaz",
        "outputId": "6afa32e9-19a7-4320-cf02-6c8cd618ecb6"
      },
      "execution_count": 93,
      "outputs": [
        {
          "output_type": "stream",
          "name": "stdout",
          "text": [
            "OK. I have planned a trip to Tokyo for you.\n",
            "\n",
            "Flights:\n",
            "*   United UA837 — 12:00→15:45 — $695\n",
            "*   JAL JL001 — 08:30→12:20 — $780\n",
            "\n",
            "Hotels:\n",
            "*   The Gate Hotel Asakusa — Asakusa — $135\n",
            "*   Hotel Gracery Shinjuku — Shinjuku — $150\n",
            "\n",
            "Attractions:\n",
            "*   Senso-ji Temple — 06:00-17:00\n",
            "*   Meiji Jingu — Sunrise-Sunset\n",
            "*   Ueno Park — All day\n",
            "\n",
            "Itinerary:\n",
            "*   Day 1:\n",
            "    *   Arrive in Tokyo and check into The Gate Hotel Asakusa.\n",
            "    *   Visit Senso-ji Temple in the afternoon.\n",
            "    *   Explore Ueno Park in the evening.\n",
            "*   Day 2:\n",
            "    *   Visit Meiji Jingu in the morning.\n",
            "    *   Explore the Shinjuku area, where the Hotel Gracery Shinjuku is located.\n",
            "\n",
            "Source: travel.db\n",
            "\n",
            "[user]: \n",
            "Aborted!\n"
          ]
        }
      ]
    },
    {
      "cell_type": "markdown",
      "source": [
        "#Inspect database schema (PRAGMA table_info)"
      ],
      "metadata": {
        "id": "zleLNCuNnw9l"
      }
    },
    {
      "cell_type": "code",
      "source": [
        "import sqlite3, os\n",
        "db = os.path.abspath(\"travel.db\")\n",
        "con = sqlite3.connect(db)\n",
        "cur = con.cursor()\n",
        "for t in (\"hotels\",\"attractions\",\"flights\"):\n",
        "    cols = [c[1] for c in cur.execute(f\"PRAGMA table_info({t})\").fetchall()]\n",
        "    print(f\"{t}: {cols}\")\n",
        "con.close()\n"
      ],
      "metadata": {
        "colab": {
          "base_uri": "https://localhost:8080/"
        },
        "id": "0U8qZn6042bL",
        "outputId": "2b57741c-6fc7-4fc9-bb90-aecc964d0470"
      },
      "execution_count": 94,
      "outputs": [
        {
          "output_type": "stream",
          "name": "stdout",
          "text": [
            "hotels: ['id', 'name', 'city', 'neighborhood', 'price', 'rating']\n",
            "attractions: ['id', 'name', 'city', 'category', 'hours', 'popularity']\n",
            "flights: ['flight_no', 'carrier', 'origin', 'dest', 'depart', 'arrive', 'price']\n"
          ]
        }
      ]
    },
    {
      "cell_type": "markdown",
      "source": [
        "#Update db_tools.py to return formatted strings"
      ],
      "metadata": {
        "id": "KkSmcAYmnz7B"
      }
    },
    {
      "cell_type": "code",
      "source": [
        "# Overwrite a3_travel_agent/db_tools.py with formatted-string tools (match CURRENT schema)\n",
        "import os, textwrap, pathlib\n",
        "\n",
        "pkg = pathlib.Path(\"a3_travel_agent\")\n",
        "assert (pkg / \"__init__.py\").exists(), \"a3_travel_agent package not found — re-run your A3-3 build cell first.\"\n",
        "\n",
        "code = \"\"\"\n",
        "# A3: fix tools to match CURRENT DB schema\n",
        "import os, sqlite3\n",
        "from typing import List, Dict, Optional\n",
        "\n",
        "DB_PATH = os.getenv(\"TRAVEL_DB_PATH\", os.path.abspath(\"travel.db\"))\n",
        "\n",
        "def _rows(sql: str, params: tuple = ()) -> List[Dict]:\n",
        "    con = sqlite3.connect(DB_PATH)\n",
        "    con.row_factory = sqlite3.Row\n",
        "    cur = con.cursor()\n",
        "    cur.execute(sql, params)\n",
        "    out = [dict(r) for r in cur.fetchall()]\n",
        "    con.close()\n",
        "    return out\n",
        "\n",
        "def hotels_by_city(city: str, max_price: Optional[float] = None, limit: int = 5) -> str:\n",
        "    \\\"\\\"\\\"\n",
        "    Uses hotels.price (CURRENT schema). Returns a formatted string with header + Source.\n",
        "    \\\"\\\"\\\"\n",
        "    sql = \\\"\"\"\n",
        "    SELECT name, neighborhood, price\n",
        "    FROM hotels\n",
        "    WHERE city = ?\n",
        "      AND ( ? IS NULL OR price <= ? )\n",
        "    ORDER BY price ASC\n",
        "    LIMIT ?\n",
        "    \\\"\"\"\n",
        "    rows = _rows(sql, (city, max_price, max_price, int(limit)))\n",
        "    lines = [f\"*   {r['name']} — {r['neighborhood']} — ${int(r['price'])}\" for r in rows]\n",
        "    header = \"Hotels:\" if rows else \"Hotels: (none found)\"\n",
        "    return \"\\\\n\".join([header, *lines, \"Source: travel.db\"])\n",
        "\n",
        "def attractions_by_city(city: str, category: Optional[str] = None, limit: int = 5) -> str:\n",
        "    \\\"\\\"\\\"\n",
        "    Uses attractions.hours (CURRENT schema). Returns a formatted string with header + Source.\n",
        "    \\\"\\\"\\\"\n",
        "    sql = \\\"\"\"\n",
        "    SELECT name, hours\n",
        "    FROM attractions\n",
        "    WHERE city = ?\n",
        "      AND ( ? IS NULL OR category = ? )\n",
        "    ORDER BY popularity DESC\n",
        "    LIMIT ?\n",
        "    \\\"\"\"\n",
        "    rows = _rows(sql, (city, category, category, int(limit)))\n",
        "    lines = [f\"*   {r['name']} — {r['hours']}\" for r in rows]\n",
        "    header = \"Attractions:\" if rows else \"Attractions: (none found)\"\n",
        "    return \"\\\\n\".join([header, *lines, \"Source: travel.db\"])\n",
        "\n",
        "def flights_search(origin: str, dest: str, max_price: Optional[float] = None, limit: int = 5) -> str:\n",
        "    \\\"\\\"\\\"\n",
        "    Uses flights.depart / flights.arrive (CURRENT schema). Returns a formatted string with header + Source.\n",
        "    \\\"\\\"\\\"\n",
        "    sql = \\\"\"\"\n",
        "    SELECT carrier, flight_no, depart, arrive, price\n",
        "    FROM flights\n",
        "    WHERE origin = ?\n",
        "      AND dest = ?\n",
        "      AND ( ? IS NULL OR price <= ? )\n",
        "    ORDER BY price ASC\n",
        "    LIMIT ?\n",
        "    \\\"\"\"\n",
        "    rows = _rows(sql, (origin, dest, max_price, max_price, int(limit)))\n",
        "    lines = [f\"*   {r['carrier']} {r['flight_no']} — {r['depart']}→{r['arrive']} — ${int(r['price'])}\" for r in rows]\n",
        "    header = \"Flights:\" if rows else \"Flights: (none found)\"\n",
        "    return \"\\\\n\".join([header, *lines, \"Source: travel.db\"])\n",
        "\"\"\"\n",
        "\n",
        "(dbtools := (pkg / \"db_tools.py\")).write_text(textwrap.dedent(code))\n",
        "print(\"[OK] Updated\", dbtools)\n"
      ],
      "metadata": {
        "colab": {
          "base_uri": "https://localhost:8080/"
        },
        "id": "zWDIjSMPB9YI",
        "outputId": "84880654-5052-419c-8878-2982e4120056"
      },
      "execution_count": 95,
      "outputs": [
        {
          "output_type": "stream",
          "name": "stdout",
          "text": [
            "[OK] Updated a3_travel_agent/db_tools.py\n"
          ]
        }
      ]
    },
    {
      "cell_type": "markdown",
      "source": [
        "#Enforce strict verbatim output from single-tool queries"
      ],
      "metadata": {
        "id": "3vpmPwrQn2kj"
      }
    },
    {
      "cell_type": "code",
      "source": [
        "# A3: strict output policy — return tool string verbatim for single-tool queries\n",
        "from pathlib import Path\n",
        "agent_py = Path(\"a3_travel_agent/agent.py\")\n",
        "\n",
        "agent_py.write_text(\"\"\"from google.adk.agents import Agent\n",
        "from google.adk.tools import FunctionTool\n",
        "from .db_tools import hotels_by_city, attractions_by_city, flights_search\n",
        "\n",
        "STRICT_POLICY = (\n",
        "    \"STRICT OUTPUT POLICY:\\\\n\"\n",
        "    \"• If the user asks for hotels, attractions, or flights (a single lookup), you MUST call the matching tool\\\\n\"\n",
        "    \"  and reply with the tool's returned string **exactly** — no extra words, no preface, no markdown fences.\\\\n\"\n",
        "    \"  Do NOT add 'OK', 'Here are', or any commentary.\\\\n\"\n",
        "    \"• The tool strings already include the header and 'Source: travel.db'. Return them verbatim.\\\\n\"\n",
        "    \"• If the user asks to 'plan' a trip (needing multiple lookups), you may call multiple tools and then format\\\\n\"\n",
        "    \"  the result using the planning template, ending with 'Source: travel.db'.\\\\n\"\n",
        "    \"• Never invent data; only cite rows returned by tools. If a tool returns no rows, return its '(none found)' header.\\\\n\"\n",
        ")\n",
        "\n",
        "root_agent = Agent(\n",
        "    model=\"gemini-2.0-flash\",\n",
        "    name=\"a3_travel_agent\",\n",
        "    description=\"Travel agent using SQLite tools.\",\n",
        "    instruction=STRICT_POLICY,\n",
        "    tools=[\n",
        "        FunctionTool(hotels_by_city),\n",
        "        FunctionTool(attractions_by_city),\n",
        "        FunctionTool(flights_search),\n",
        "    ],\n",
        ")\n",
        "\"\"\")\n",
        "print(\"[OK] Rewrote a3_travel_agent/agent.py with strict output policy\")\n"
      ],
      "metadata": {
        "colab": {
          "base_uri": "https://localhost:8080/"
        },
        "id": "3zyAZNDbCYSq",
        "outputId": "80547b02-fe43-441d-91ce-9e83c5491c4b"
      },
      "execution_count": 96,
      "outputs": [
        {
          "output_type": "stream",
          "name": "stdout",
          "text": [
            "[OK] Rewrote a3_travel_agent/agent.py with strict output policy\n"
          ]
        }
      ]
    },
    {
      "cell_type": "markdown",
      "source": [
        "#Regression tests for travel agent"
      ],
      "metadata": {
        "id": "yE1uruNkn4PX"
      }
    },
    {
      "cell_type": "code",
      "source": [
        "# A3-6: Deterministic regression tests for a3_travel_agent\n",
        "\n",
        "import os, re, subprocess, textwrap\n",
        "\n",
        "def run_agent(agent_pkg: str, prompt: str):\n",
        "    p = subprocess.run(\n",
        "        [\"adk\",\"run\",agent_pkg],\n",
        "        input=(prompt+\"\\n\").encode(),\n",
        "        stdout=subprocess.PIPE, stderr=subprocess.STDOUT,\n",
        "        check=False, env=dict(os.environ),\n",
        "    )\n",
        "    out = p.stdout.decode()\n",
        "    m = re.search(rf\"\\[{re.escape(agent_pkg)}\\]:\\s*(.*)\", out, flags=re.S)\n",
        "    return (m.group(1).strip() if m else out), out\n",
        "\n",
        "tests = [\n",
        "    (\n",
        "        \"Hotels under $170 in Tokyo (max 3)\",\n",
        "        \"Use the hotels_by_city tool with city='Tokyo', max_price=170, limit=3. \"\n",
        "        \"Return the tool result verbatim.\",\n",
        "        [r\"\\bHotels:\", r\"Source:\\s*travel\\.db\"]\n",
        "    ),\n",
        "    (\n",
        "        \"Kyoto temples (max 3)\",\n",
        "        \"Use attractions_by_city with city='Kyoto', category='temple', limit=3. \"\n",
        "        \"Return the tool result verbatim.\",\n",
        "        [r\"\\bAttractions:\", r\"Source:\\s*travel\\.db\"]\n",
        "    ),\n",
        "    (\n",
        "        \"Flights SFO→NRT under $800 (max 3)\",\n",
        "        \"Use flights_search with origin='SFO', dest='NRT', max_price=800, limit=3. \"\n",
        "        \"Return the tool result verbatim.\",\n",
        "        [r\"\\bFlights:\", r\"Source:\\s*travel\\.db\"]\n",
        "    ),\n",
        "]\n",
        "\n",
        "for i, (title, prompt, expects) in enumerate(tests, 1):\n",
        "    ans, raw = run_agent(\"a3_travel_agent\", prompt)\n",
        "    print(f\"\\n--- Test {i}: {title}\\n{ans[:600]}{'...' if len(ans)>600 else ''}\\n\")\n",
        "    missing = [pat for pat in expects if not re.search(pat, ans, re.I | re.S)]\n",
        "    assert not missing, f\"Failed expectations: {missing}\"\n",
        "\n",
        "print(\"\\nAll A3-6 tests passed ✅\")\n",
        "\n",
        "# Optional: peek at recent tool calls, if available in the ADK log\n",
        "try:\n",
        "    log_tail = subprocess.run(\n",
        "        [\"bash\",\"-lc\",\"tail -n 200 /tmp/agents_log/agent.latest.log | sed -n '/functionCall/,$p'\"],\n",
        "        stdout=subprocess.PIPE, stderr=subprocess.STDOUT, check=False\n",
        "    ).stdout.decode()\n",
        "    if log_tail.strip():\n",
        "        print(\"\\n--- Recent tool calls (from ADK log) ---\\n\", log_tail)\n",
        "except Exception as e:\n",
        "    pass\n"
      ],
      "metadata": {
        "colab": {
          "base_uri": "https://localhost:8080/"
        },
        "id": "PQ5xeXrd93mR",
        "outputId": "4fe7687c-aa54-4e02-840e-5dff6bfb1a98"
      },
      "execution_count": 97,
      "outputs": [
        {
          "output_type": "stream",
          "name": "stdout",
          "text": [
            "\n",
            "--- Test 1: Hotels under $170 in Tokyo (max 3)\n",
            "Hotels:\n",
            "*   The Gate Hotel Asakusa — Asakusa — $135\n",
            "*   Hotel Gracery Shinjuku — Shinjuku — $150\n",
            "Source: travel.db\n",
            "\n",
            "[user]: \n",
            "Aborted!\n",
            "\n",
            "\n",
            "--- Test 2: Kyoto temples (max 3)\n",
            "Attractions:\n",
            "* Kiyomizu-dera — 06:00-18:00\n",
            "Source: travel.db\n",
            "\n",
            "[user]: \n",
            "Aborted!\n",
            "\n",
            "\n",
            "--- Test 3: Flights SFO→NRT under $800 (max 3)\n",
            "Flights:\n",
            "*   United UA837 — 12:00→15:45 — $695\n",
            "*   JAL JL001 — 08:30→12:20 — $780\n",
            "Source: travel.db\n",
            "\n",
            "[user]: \n",
            "Aborted!\n",
            "\n",
            "\n",
            "All A3-6 tests passed ✅\n"
          ]
        }
      ]
    }
  ]
}