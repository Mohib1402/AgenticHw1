{
  "nbformat": 4,
  "nbformat_minor": 0,
  "metadata": {
    "colab": {
      "provenance": []
    },
    "kernelspec": {
      "name": "python3",
      "display_name": "Python 3"
    },
    "language_info": {
      "name": "python"
    }
  },
  "cells": [
    {
      "cell_type": "markdown",
      "source": [
        "#Environment setup — install ADK & verify CLI\n"
      ],
      "metadata": {
        "id": "t-IIgxOhiWdI"
      }
    },
    {
      "cell_type": "code",
      "execution_count": 1,
      "metadata": {
        "colab": {
          "base_uri": "https://localhost:8080/"
        },
        "id": "Qq4n4ggyA2dM",
        "outputId": "85851df0-a9c3-42b5-e748-eedd4ddb5305"
      },
      "outputs": [
        {
          "output_type": "stream",
          "name": "stdout",
          "text": [
            "Python: 3.12.12 (main, Oct 10 2025, 08:52:57) [GCC 11.4.0]\n"
          ]
        }
      ],
      "source": [
        "import sys\n",
        "print(\"Python:\", sys.version)\n",
        "\n",
        "# Install/upgrade ADK\n",
        "!pip -q install --upgrade google-adk\n",
        "\n",
        "# Verify CLI is available\n",
        "!adk --help | tail -n +20\n"
      ]
    },
    {
      "cell_type": "markdown",
      "source": [
        "#Scaffold A1 prototype agent (kitchen renovation, no tools)\n"
      ],
      "metadata": {
        "id": "hmDkpKMZidNk"
      }
    },
    {
      "cell_type": "code",
      "source": [
        "%%bash\n",
        "set -e\n",
        "rm -rf a1_prototype_agent\n",
        "mkdir -p a1_prototype_agent\n",
        "\n",
        "cat > a1_prototype_agent/__init__.py << 'PY'\n",
        "from .agent import root_agent\n",
        "PY\n",
        "\n",
        "cat > a1_prototype_agent/agent.py << 'PY'\n",
        "from google.adk.agents import Agent\n",
        "\n",
        "# A1 domain agent: generates a concise renovation proposal as Markdown\n",
        "root_agent = Agent(\n",
        "    model='gemini-2.0-flash',\n",
        "    name='a1_prototype_agent',\n",
        "    description='Generates a kitchen renovation proposal.',\n",
        "    instruction=(\n",
        "        \"You are a renovation proposal assistant. Given inputs (home type, style, rooms, budget, timeline), \"\n",
        "        \"produce a professional, concise proposal with these sections: \"\n",
        "        \"1) Scope of Work, 2) Materials & Fixtures, 3) Phased Timeline, 4) Budget Breakdown (Markdown table), \"\n",
        "        \"5) Risks & Mitigations, 6) Next Steps. Keep it ~400–600 words. Use clear Markdown headings.\"\n",
        "    ),\n",
        "    tools=[],   # A1: no tools yet\n",
        ")\n",
        "PY\n",
        "\n",
        "echo \"[OK] a1_prototype_agent ready\"\n",
        "ls -la a1_prototype_agent\n"
      ],
      "metadata": {
        "colab": {
          "base_uri": "https://localhost:8080/"
        },
        "id": "9iwQrVA1dHTn",
        "outputId": "3c6fddc0-e59a-4d9c-ec5e-f23be63eaf00"
      },
      "execution_count": 3,
      "outputs": [
        {
          "output_type": "stream",
          "name": "stdout",
          "text": [
            "[OK] a1_prototype_agent ready\n",
            "total 16\n",
            "drwxr-xr-x 2 root root 4096 Oct 20 02:39 .\n",
            "drwxr-xr-x 1 root root 4096 Oct 20 02:39 ..\n",
            "-rw-r--r-- 1 root root  710 Oct 20 02:39 agent.py\n",
            "-rw-r--r-- 1 root root   30 Oct 20 02:39 __init__.py\n"
          ]
        }
      ]
    },
    {
      "cell_type": "markdown",
      "source": [
        "#Run agent → save proposal (Markdown) + optional Drive copy + preview\n"
      ],
      "metadata": {
        "id": "m47c7x2eihov"
      }
    },
    {
      "cell_type": "code",
      "source": [
        "import subprocess, re, os, shutil\n",
        "from datetime import datetime\n",
        "\n",
        "def run_agent(agent_pkg: str, prompt: str) -> str:\n",
        "    p = subprocess.run(\n",
        "        [\"adk\", \"run\", agent_pkg],\n",
        "        input=(prompt + \"\\n\").encode(),\n",
        "        stdout=subprocess.PIPE, stderr=subprocess.STDOUT, check=False,\n",
        "    )\n",
        "    out = p.stdout.decode(\"utf-8\")\n",
        "    m = re.search(rf\"\\[{re.escape(agent_pkg)}\\]:\\s*(.*)\", out, flags=re.S)\n",
        "    return m.group(1).strip() if m else out\n",
        "\n",
        "# --- sample inputs you can tweak ---\n",
        "inputs = dict(\n",
        "    home_type=\"condo\",\n",
        "    style=\"modern-minimal\",\n",
        "    rooms=\"kitchen only\",\n",
        "    budget=\"USD 25,000\",\n",
        "    timeline=\"6 weeks\",\n",
        "    must_haves=\"quartz countertop, induction cooktop, under-cabinet lighting\",\n",
        ")\n",
        "\n",
        "prompt = f\"\"\"Create a kitchen renovation proposal using these inputs:\n",
        "\n",
        "- Home type: {inputs['home_type']}\n",
        "- Style: {inputs['style']}\n",
        "- Scope: {inputs['rooms']}\n",
        "- Budget: {inputs['budget']}\n",
        "- Timeline: {inputs['timeline']}\n",
        "- Must-haves: {inputs['must_haves']}\n",
        "\n",
        "Return Markdown only.\n",
        "\"\"\"\n",
        "\n",
        "md = run_agent(\"a1_prototype_agent\", prompt)\n",
        "\n",
        "# Save locally\n",
        "stamp = datetime.now().strftime(\"%Y%m%d_%H%M%S\")\n",
        "fname = f\"Kitchen_Renovation_Proposal_{stamp}.md\"\n",
        "with open(fname, \"w\", encoding=\"utf-8\") as f:\n",
        "    f.write(md)\n",
        "print(\"Saved:\", fname)\n",
        "\n",
        "# If Google Drive is mounted, copy there too (free alternative to Cloud Storage)\n",
        "drive_root = \"/content/drive/MyDrive\"\n",
        "if os.path.isdir(drive_root):\n",
        "    dest = os.path.join(drive_root, fname)\n",
        "    shutil.copy(fname, dest)\n",
        "    print(\"Copied to Drive:\", dest)\n",
        "\n",
        "# Show first 25 lines for validation\n",
        "print(\"\\n--- Preview ---\")\n",
        "print(\"\\n\".join(md.splitlines()[:25]))\n"
      ],
      "metadata": {
        "colab": {
          "base_uri": "https://localhost:8080/"
        },
        "id": "_NSltAwYdJxV",
        "outputId": "8c7d414b-a17e-48db-8d0a-059aa18ddfe1"
      },
      "execution_count": 4,
      "outputs": [
        {
          "output_type": "stream",
          "name": "stdout",
          "text": [
            "Saved: Kitchen_Renovation_Proposal_20251020_023954.md\n",
            "\n",
            "--- Preview ---\n",
            "Okay, I can help with that. Please provide the inputs (home type, style, rooms, budget, timeline) so I can generate a kitchen renovation proposal for you. I need that information to tailor the proposal to your specific needs.\n",
            "\n",
            "[user]: [user]: [a1_prototype_agent]: Okay, I will remember that we are working on a condo. What are the other inputs? (style, rooms, budget, timeline)\n",
            "\n",
            "[user]: [a1_prototype_agent]: Okay, I have the home type (condo) and style (modern-minimal). I still need the following inputs to create the renovation proposal: rooms, budget, and timeline. Please provide those.\n",
            "\n",
            "[user]: [a1_prototype_agent]: Okay, I have the home type (condo), style (modern-minimal), and scope (kitchen only). I still need the following inputs to create the renovation proposal: budget and timeline. Please provide those.\n",
            "\n",
            "[user]: [a1_prototype_agent]: Okay, I have the home type (condo), style (modern-minimal), scope (kitchen only), and budget (USD 25,000). I still need the timeline input to create the renovation proposal. Please provide that.\n",
            "\n",
            "[user]: [a1_prototype_agent]: Okay, I have all the necessary inputs. Here is a draft of the kitchen renovation proposal:\n",
            "\n",
            "## Kitchen Renovation Proposal: Modern-Minimal Condo Kitchen\n",
            "\n",
            "**Date:** October 26, 2023\n",
            "\n",
            "This proposal outlines the scope of work, materials, timeline, and budget for a modern-minimal kitchen renovation in your condo.\n",
            "\n",
            "### 1. Scope of Work\n",
            "\n",
            "This project includes the complete renovation of your existing kitchen space, transforming it into a modern-minimal design. Key tasks include:\n",
            "\n",
            "*   Demolition and removal of existing kitchen cabinets, countertops, flooring, and fixtures.\n",
            "*   Installation of new, custom-designed modern-minimal cabinets with integrated hardware.\n",
            "*   Installation of quartz countertops with a clean, seamless design.\n"
          ]
        }
      ]
    },
    {
      "cell_type": "markdown",
      "source": [
        "#Sanity check — verify required sections exist\n"
      ],
      "metadata": {
        "id": "mwSpckjeirBQ"
      }
    },
    {
      "cell_type": "code",
      "source": [
        "import re, pathlib\n",
        "\n",
        "path = pathlib.Path(fname)  # from your save cell\n",
        "text = path.read_text(encoding=\"utf-8\")\n",
        "\n",
        "need = [r\"\\bScope of Work\\b\",\n",
        "        r\"\\bMaterials? & Fixtures\\b\",\n",
        "        r\"\\bPhased Timeline\\b\",\n",
        "        r\"\\bBudget Breakdown\\b\",\n",
        "        r\"\\bRisks? & Mitigations\\b\",\n",
        "        r\"\\bNext Steps\\b\"]\n",
        "\n",
        "missing = [h for h in need if not re.search(h, text, flags=re.I)]\n",
        "print(\"Missing sections:\" if missing else \"All sections present ✅\", missing)\n"
      ],
      "metadata": {
        "colab": {
          "base_uri": "https://localhost:8080/"
        },
        "id": "_EuXaQu1f3Ru",
        "outputId": "9e4e6b7b-d085-4692-c59f-5db75218f0d5"
      },
      "execution_count": 5,
      "outputs": [
        {
          "output_type": "stream",
          "name": "stdout",
          "text": [
            "All sections present ✅ []\n"
          ]
        }
      ]
    }
  ]
}